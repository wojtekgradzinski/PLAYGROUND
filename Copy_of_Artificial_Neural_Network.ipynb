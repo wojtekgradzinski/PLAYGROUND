{
  "nbformat": 4,
  "nbformat_minor": 0,
  "metadata": {
    "colab": {
      "name": "Copy of Artificial Neural Network",
      "provenance": [],
      "collapsed_sections": [],
      "include_colab_link": true
    },
    "kernelspec": {
      "name": "python3",
      "display_name": "Python 3"
    }
  },
  "cells": [
    {
      "cell_type": "markdown",
      "metadata": {
        "id": "view-in-github",
        "colab_type": "text"
      },
      "source": [
        "<a href=\"https://colab.research.google.com/github/wojtekgradzinski/Playground/blob/main/Copy_of_Artificial_Neural_Network.ipynb\" target=\"_parent\"><img src=\"https://colab.research.google.com/assets/colab-badge.svg\" alt=\"Open In Colab\"/></a>"
      ]
    },
    {
      "cell_type": "markdown",
      "metadata": {
        "id": "3cbb7fRy-eyr"
      },
      "source": [
        "# Artificial Neural Network"
      ]
    },
    {
      "cell_type": "markdown",
      "metadata": {
        "id": "8sNDnxE2-pwE"
      },
      "source": [
        "### Importing the libraries"
      ]
    },
    {
      "cell_type": "code",
      "metadata": {
        "id": "lxChR1Rk-umf"
      },
      "source": [
        "import numpy as np\n",
        "import pandas as pd\n",
        "import tensorflow as tf"
      ],
      "execution_count": 20,
      "outputs": []
    },
    {
      "cell_type": "code",
      "metadata": {
        "id": "uBTqR3nacj0e",
        "colab": {
          "base_uri": "https://localhost:8080/",
          "height": 35
        },
        "outputId": "ca90f67c-15e4-45de-e297-95708746ca4a"
      },
      "source": [
        "tf.__version__"
      ],
      "execution_count": 2,
      "outputs": [
        {
          "output_type": "execute_result",
          "data": {
            "application/vnd.google.colaboratory.intrinsic+json": {
              "type": "string"
            },
            "text/plain": [
              "'2.7.0'"
            ]
          },
          "metadata": {},
          "execution_count": 2
        }
      ]
    },
    {
      "cell_type": "markdown",
      "metadata": {
        "id": "AG3FQEch-yuA"
      },
      "source": [
        "## Part 1 - Data Preprocessing"
      ]
    },
    {
      "cell_type": "markdown",
      "metadata": {
        "id": "-4zq8Mza_D9O"
      },
      "source": [
        "### Importing the dataset"
      ]
    },
    {
      "cell_type": "code",
      "metadata": {
        "id": "rHhrmnppqV7F"
      },
      "source": [
        "dataset = pd.read_excel('Folds5x2_pp.xlsx')\n",
        "X = dataset.iloc[:, :-1].values\n",
        "y = dataset.iloc[:, -1].values"
      ],
      "execution_count": 21,
      "outputs": []
    },
    {
      "cell_type": "code",
      "metadata": {
        "colab": {
          "base_uri": "https://localhost:8080/"
        },
        "id": "4NiVs0gLvkdc",
        "outputId": "6528461a-c67a-4f7a-ada3-9f36e665c6e3"
      },
      "source": [
        "print(X)\n",
        "print(y)"
      ],
      "execution_count": 9,
      "outputs": [
        {
          "output_type": "stream",
          "name": "stdout",
          "text": [
            "[[  14.96   41.76 1024.07   73.17]\n",
            " [  25.18   62.96 1020.04   59.08]\n",
            " [   5.11   39.4  1012.16   92.14]\n",
            " ...\n",
            " [  31.32   74.33 1012.92   36.48]\n",
            " [  24.48   69.45 1013.86   62.39]\n",
            " [  21.6    62.52 1017.23   67.87]]\n",
            "[463.26 444.37 488.56 ... 429.57 435.74 453.28]\n"
          ]
        }
      ]
    },
    {
      "cell_type": "markdown",
      "metadata": {
        "id": "VC6omXel_Up0"
      },
      "source": [
        "### Splitting the dataset into the Training set and Test set"
      ]
    },
    {
      "cell_type": "code",
      "metadata": {
        "id": "NJ_XhDFnvB3l"
      },
      "source": [
        "from sklearn.model_selection  import train_test_split\n",
        "X_train, X_test, y_train, y_test = train_test_split(X, y, test_size = 0.2, random_state = 0)"
      ],
      "execution_count": 22,
      "outputs": []
    },
    {
      "cell_type": "markdown",
      "metadata": {
        "id": "_mSLlAT9_eyI"
      },
      "source": [
        "## Part 2 - Building the ANN"
      ]
    },
    {
      "cell_type": "markdown",
      "metadata": {
        "id": "CsBULd_f_wLY"
      },
      "source": [
        "### Initializing the ANN"
      ]
    },
    {
      "cell_type": "code",
      "metadata": {
        "id": "HNYwU9jrzCeW"
      },
      "source": [
        "ann = tf.keras.models.Sequential()"
      ],
      "execution_count": 23,
      "outputs": []
    },
    {
      "cell_type": "markdown",
      "metadata": {
        "id": "iitAFJS_ABUn"
      },
      "source": [
        "### Adding the input layer and the first hidden layer"
      ]
    },
    {
      "cell_type": "code",
      "metadata": {
        "id": "7swrr0tMz7cB"
      },
      "source": [
        "ann.add(tf.keras.layers.Dense(units = 6, activation = 'relu'))"
      ],
      "execution_count": 24,
      "outputs": []
    },
    {
      "cell_type": "markdown",
      "metadata": {
        "id": "-lb4kK_wAKbs"
      },
      "source": [
        "### Adding the second hidden layer"
      ]
    },
    {
      "cell_type": "code",
      "metadata": {
        "id": "L4RSa0xbz7_h"
      },
      "source": [
        "ann.add(tf.keras.layers.Dense(units = 6, activation = 'relu'))"
      ],
      "execution_count": 25,
      "outputs": []
    },
    {
      "cell_type": "markdown",
      "metadata": {
        "id": "jwMOmKb3AdBY"
      },
      "source": [
        "### Adding the output layer"
      ]
    },
    {
      "cell_type": "code",
      "metadata": {
        "id": "rN8STj8Yz8kZ"
      },
      "source": [
        "ann.add(tf.keras.layers.Dense(units = 1))"
      ],
      "execution_count": 26,
      "outputs": []
    },
    {
      "cell_type": "markdown",
      "metadata": {
        "id": "fq7e4fF6A1yy"
      },
      "source": [
        "## Part 3 - Training the ANN"
      ]
    },
    {
      "cell_type": "markdown",
      "metadata": {
        "id": "qDeylAs2An25"
      },
      "source": [
        "### Compiling the ANN"
      ]
    },
    {
      "cell_type": "code",
      "metadata": {
        "id": "AU9ZUyPe5_I1"
      },
      "source": [
        "ann.compile(optimizer = 'adam', loss = 'mean_squared_error' )"
      ],
      "execution_count": 27,
      "outputs": []
    },
    {
      "cell_type": "markdown",
      "metadata": {
        "id": "YjVuiybYOo7r"
      },
      "source": [
        "### Training the ANN model on the Training set"
      ]
    },
    {
      "cell_type": "code",
      "metadata": {
        "colab": {
          "base_uri": "https://localhost:8080/"
        },
        "id": "fvW9cEYl6uPb",
        "outputId": "22b9b8d2-bd51-469d-f093-21d85bf831b0"
      },
      "source": [
        "ann.fit(X_train, y_train, batch_size = 32 , epochs = 100)"
      ],
      "execution_count": 28,
      "outputs": [
        {
          "output_type": "stream",
          "name": "stdout",
          "text": [
            "Epoch 1/100\n",
            "240/240 [==============================] - 1s 1ms/step - loss: 187327.9219\n",
            "Epoch 2/100\n",
            "240/240 [==============================] - 0s 1ms/step - loss: 1387.8385\n",
            "Epoch 3/100\n",
            "240/240 [==============================] - 0s 2ms/step - loss: 171.4373\n",
            "Epoch 4/100\n",
            "240/240 [==============================] - 0s 1ms/step - loss: 168.9389\n",
            "Epoch 5/100\n",
            "240/240 [==============================] - 0s 1ms/step - loss: 166.4722\n",
            "Epoch 6/100\n",
            "240/240 [==============================] - 0s 1ms/step - loss: 164.1348\n",
            "Epoch 7/100\n",
            "240/240 [==============================] - 0s 1ms/step - loss: 161.4185\n",
            "Epoch 8/100\n",
            "240/240 [==============================] - 0s 1ms/step - loss: 158.4594\n",
            "Epoch 9/100\n",
            "240/240 [==============================] - 0s 1ms/step - loss: 155.6719\n",
            "Epoch 10/100\n",
            "240/240 [==============================] - 0s 1ms/step - loss: 151.7858\n",
            "Epoch 11/100\n",
            "240/240 [==============================] - 0s 1ms/step - loss: 148.0298\n",
            "Epoch 12/100\n",
            "240/240 [==============================] - 0s 1ms/step - loss: 143.7243\n",
            "Epoch 13/100\n",
            "240/240 [==============================] - 0s 1ms/step - loss: 139.7151\n",
            "Epoch 14/100\n",
            "240/240 [==============================] - 0s 1ms/step - loss: 134.5724\n",
            "Epoch 15/100\n",
            "240/240 [==============================] - 0s 1ms/step - loss: 129.3659\n",
            "Epoch 16/100\n",
            "240/240 [==============================] - 0s 1ms/step - loss: 124.3403\n",
            "Epoch 17/100\n",
            "240/240 [==============================] - 0s 1ms/step - loss: 118.6422\n",
            "Epoch 18/100\n",
            "240/240 [==============================] - 0s 2ms/step - loss: 112.3119\n",
            "Epoch 19/100\n",
            "240/240 [==============================] - 0s 1ms/step - loss: 106.4382\n",
            "Epoch 20/100\n",
            "240/240 [==============================] - 0s 1ms/step - loss: 100.1610\n",
            "Epoch 21/100\n",
            "240/240 [==============================] - 0s 1ms/step - loss: 93.7141\n",
            "Epoch 22/100\n",
            "240/240 [==============================] - 0s 1ms/step - loss: 87.8798\n",
            "Epoch 23/100\n",
            "240/240 [==============================] - 0s 1ms/step - loss: 81.3478\n",
            "Epoch 24/100\n",
            "240/240 [==============================] - 0s 1ms/step - loss: 75.9290\n",
            "Epoch 25/100\n",
            "240/240 [==============================] - 0s 1ms/step - loss: 70.6429\n",
            "Epoch 26/100\n",
            "240/240 [==============================] - 0s 2ms/step - loss: 65.7772\n",
            "Epoch 27/100\n",
            "240/240 [==============================] - 0s 1ms/step - loss: 61.5457\n",
            "Epoch 28/100\n",
            "240/240 [==============================] - 0s 1ms/step - loss: 58.0635\n",
            "Epoch 29/100\n",
            "240/240 [==============================] - 0s 2ms/step - loss: 54.8689\n",
            "Epoch 30/100\n",
            "240/240 [==============================] - 0s 1ms/step - loss: 52.8590\n",
            "Epoch 31/100\n",
            "240/240 [==============================] - 0s 1ms/step - loss: 51.4903\n",
            "Epoch 32/100\n",
            "240/240 [==============================] - 0s 1ms/step - loss: 49.7691\n",
            "Epoch 33/100\n",
            "240/240 [==============================] - 0s 1ms/step - loss: 48.6878\n",
            "Epoch 34/100\n",
            "240/240 [==============================] - 0s 1ms/step - loss: 48.1089\n",
            "Epoch 35/100\n",
            "240/240 [==============================] - 0s 1ms/step - loss: 46.4006\n",
            "Epoch 36/100\n",
            "240/240 [==============================] - 0s 1ms/step - loss: 45.9297\n",
            "Epoch 37/100\n",
            "240/240 [==============================] - 0s 1ms/step - loss: 45.2403\n",
            "Epoch 38/100\n",
            "240/240 [==============================] - 0s 1ms/step - loss: 43.8814\n",
            "Epoch 39/100\n",
            "240/240 [==============================] - 0s 1ms/step - loss: 43.5048\n",
            "Epoch 40/100\n",
            "240/240 [==============================] - 0s 1ms/step - loss: 41.8888\n",
            "Epoch 41/100\n",
            "240/240 [==============================] - 0s 1ms/step - loss: 41.0432\n",
            "Epoch 42/100\n",
            "240/240 [==============================] - 0s 1ms/step - loss: 40.2858\n",
            "Epoch 43/100\n",
            "240/240 [==============================] - 0s 1ms/step - loss: 39.2825\n",
            "Epoch 44/100\n",
            "240/240 [==============================] - 0s 2ms/step - loss: 38.5629\n",
            "Epoch 45/100\n",
            "240/240 [==============================] - 0s 2ms/step - loss: 39.0548\n",
            "Epoch 46/100\n",
            "240/240 [==============================] - 0s 1ms/step - loss: 37.1696\n",
            "Epoch 47/100\n",
            "240/240 [==============================] - 0s 1ms/step - loss: 36.2447\n",
            "Epoch 48/100\n",
            "240/240 [==============================] - 0s 1ms/step - loss: 35.8481\n",
            "Epoch 49/100\n",
            "240/240 [==============================] - 0s 2ms/step - loss: 34.0624\n",
            "Epoch 50/100\n",
            "240/240 [==============================] - 0s 2ms/step - loss: 33.3999\n",
            "Epoch 51/100\n",
            "240/240 [==============================] - 0s 2ms/step - loss: 33.8738\n",
            "Epoch 52/100\n",
            "240/240 [==============================] - 0s 2ms/step - loss: 33.4305\n",
            "Epoch 53/100\n",
            "240/240 [==============================] - 0s 2ms/step - loss: 32.3672\n",
            "Epoch 54/100\n",
            "240/240 [==============================] - 0s 2ms/step - loss: 31.4431\n",
            "Epoch 55/100\n",
            "240/240 [==============================] - 0s 2ms/step - loss: 31.0066\n",
            "Epoch 56/100\n",
            "240/240 [==============================] - 0s 2ms/step - loss: 31.1546\n",
            "Epoch 57/100\n",
            "240/240 [==============================] - 0s 2ms/step - loss: 30.6090\n",
            "Epoch 58/100\n",
            "240/240 [==============================] - 0s 2ms/step - loss: 29.8095\n",
            "Epoch 59/100\n",
            "240/240 [==============================] - 0s 2ms/step - loss: 29.3652\n",
            "Epoch 60/100\n",
            "240/240 [==============================] - 0s 1ms/step - loss: 29.3697\n",
            "Epoch 61/100\n",
            "240/240 [==============================] - 0s 1ms/step - loss: 29.5670\n",
            "Epoch 62/100\n",
            "240/240 [==============================] - 0s 2ms/step - loss: 29.2638\n",
            "Epoch 63/100\n",
            "240/240 [==============================] - 0s 1ms/step - loss: 28.4082\n",
            "Epoch 64/100\n",
            "240/240 [==============================] - 0s 1ms/step - loss: 28.2374\n",
            "Epoch 65/100\n",
            "240/240 [==============================] - 0s 1ms/step - loss: 28.5880\n",
            "Epoch 66/100\n",
            "240/240 [==============================] - 0s 2ms/step - loss: 27.8240\n",
            "Epoch 67/100\n",
            "240/240 [==============================] - 0s 1ms/step - loss: 27.6502\n",
            "Epoch 68/100\n",
            "240/240 [==============================] - 0s 1ms/step - loss: 27.2845\n",
            "Epoch 69/100\n",
            "240/240 [==============================] - 0s 1ms/step - loss: 27.4258\n",
            "Epoch 70/100\n",
            "240/240 [==============================] - 0s 1ms/step - loss: 27.7784\n",
            "Epoch 71/100\n",
            "240/240 [==============================] - 0s 1ms/step - loss: 27.8500\n",
            "Epoch 72/100\n",
            "240/240 [==============================] - 0s 1ms/step - loss: 27.4409\n",
            "Epoch 73/100\n",
            "240/240 [==============================] - 0s 1ms/step - loss: 27.2913\n",
            "Epoch 74/100\n",
            "240/240 [==============================] - 0s 1ms/step - loss: 27.4699\n",
            "Epoch 75/100\n",
            "240/240 [==============================] - 0s 1ms/step - loss: 27.0526\n",
            "Epoch 76/100\n",
            "240/240 [==============================] - 0s 1ms/step - loss: 27.3089\n",
            "Epoch 77/100\n",
            "240/240 [==============================] - 0s 1ms/step - loss: 26.9938\n",
            "Epoch 78/100\n",
            "240/240 [==============================] - 0s 1ms/step - loss: 26.9804\n",
            "Epoch 79/100\n",
            "240/240 [==============================] - 0s 1ms/step - loss: 26.7687\n",
            "Epoch 80/100\n",
            "240/240 [==============================] - 0s 1ms/step - loss: 26.7920\n",
            "Epoch 81/100\n",
            "240/240 [==============================] - 0s 1ms/step - loss: 26.6179\n",
            "Epoch 82/100\n",
            "240/240 [==============================] - 0s 1ms/step - loss: 27.0725\n",
            "Epoch 83/100\n",
            "240/240 [==============================] - 0s 1ms/step - loss: 26.5527\n",
            "Epoch 84/100\n",
            "240/240 [==============================] - 0s 1ms/step - loss: 27.1306\n",
            "Epoch 85/100\n",
            "240/240 [==============================] - 0s 1ms/step - loss: 26.8553\n",
            "Epoch 86/100\n",
            "240/240 [==============================] - 0s 1ms/step - loss: 26.8897\n",
            "Epoch 87/100\n",
            "240/240 [==============================] - 0s 1ms/step - loss: 26.4066\n",
            "Epoch 88/100\n",
            "240/240 [==============================] - 0s 1ms/step - loss: 26.6243\n",
            "Epoch 89/100\n",
            "240/240 [==============================] - 0s 1ms/step - loss: 27.0918\n",
            "Epoch 90/100\n",
            "240/240 [==============================] - 0s 1ms/step - loss: 26.9251\n",
            "Epoch 91/100\n",
            "240/240 [==============================] - 0s 1ms/step - loss: 26.8254\n",
            "Epoch 92/100\n",
            "240/240 [==============================] - 0s 1ms/step - loss: 26.6829\n",
            "Epoch 93/100\n",
            "240/240 [==============================] - 0s 1ms/step - loss: 26.8189\n",
            "Epoch 94/100\n",
            "240/240 [==============================] - 0s 1ms/step - loss: 27.5517\n",
            "Epoch 95/100\n",
            "240/240 [==============================] - 0s 1ms/step - loss: 26.3790\n",
            "Epoch 96/100\n",
            "240/240 [==============================] - 0s 1ms/step - loss: 26.9838\n",
            "Epoch 97/100\n",
            "240/240 [==============================] - 0s 1ms/step - loss: 27.0225\n",
            "Epoch 98/100\n",
            "240/240 [==============================] - 0s 1ms/step - loss: 26.5308\n",
            "Epoch 99/100\n",
            "240/240 [==============================] - 0s 1ms/step - loss: 26.6564\n",
            "Epoch 100/100\n",
            "240/240 [==============================] - 0s 2ms/step - loss: 27.3740\n"
          ]
        },
        {
          "output_type": "execute_result",
          "data": {
            "text/plain": [
              "<keras.callbacks.History at 0x7ff5e68a2050>"
            ]
          },
          "metadata": {},
          "execution_count": 28
        }
      ]
    },
    {
      "cell_type": "markdown",
      "metadata": {
        "id": "0H0zKKNEBLD5"
      },
      "source": [
        "### Predicting the results of the Test set"
      ]
    },
    {
      "cell_type": "code",
      "metadata": {
        "colab": {
          "base_uri": "https://localhost:8080/"
        },
        "id": "6V9LL5b06vaa",
        "outputId": "312f8c11-5bce-4780-d46a-2a758ef8a901"
      },
      "source": [
        "y_pred = ann.predict(X_test)\n",
        "np.set_printoptions(precision = 2)\n",
        "np.concatenate((y_pred.reshape(len(y_pred), 1) , y_test.reshape(len(y_test), 1)), 1)       #changing from horizontal to vertical  . For horizontal concatenate use 0 for verticl use 1"
      ],
      "execution_count": 34,
      "outputs": [
        {
          "output_type": "execute_result",
          "data": {
            "text/plain": [
              "array([[429.35, 431.23],\n",
              "       [460.53, 460.01],\n",
              "       [464.13, 461.14],\n",
              "       ...,\n",
              "       [471.15, 473.26],\n",
              "       [438.33, 438.  ],\n",
              "       [457.37, 463.28]])"
            ]
          },
          "metadata": {},
          "execution_count": 34
        }
      ]
    },
    {
      "cell_type": "code",
      "metadata": {
        "id": "qRPVTx2t-cLT"
      },
      "source": [
        ""
      ],
      "execution_count": null,
      "outputs": []
    }
  ]
}